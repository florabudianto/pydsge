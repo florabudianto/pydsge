{
 "cells": [
  {
   "cell_type": "code",
   "execution_count": 1,
   "metadata": {},
   "outputs": [],
   "source": [
    "import pickle\n",
    "from pydsge import * # imports eg. the DSGE class and the examples"
   ]
  },
  {
   "cell_type": "code",
   "execution_count": 2,
   "metadata": {},
   "outputs": [
    {
     "name": "stdout",
     "output_type": "stream",
     "text": [
      "[DSGE:]         Parallelization disabled under Windows and Mac due to a problem with pickling some of the symbolic elements. Sorry...\n"
     ]
    }
   ],
   "source": [
    "#Creating a basic pickle example\n",
    "yaml_file, data_file = example\n",
    "mod = DSGE.read(yaml_file)\n",
    "par = mod.set_par('calib')\n",
    "shock_list = ('e_u', 4.0, 0) # (name, size, period)\n",
    "X1, (L1, K1), _ = mod.irfs(shock_list, verbose=True)\n",
    "\n",
    "\n",
    "def is_picklable(obj):\n",
    "    \"\"\"\n",
    "    check if obj can be dumped to a .pkl file\n",
    "    \"\"\"\n",
    "    try:\n",
    "        pickle.dumps(obj)\n",
    "    except Exception:\n",
    "        return False\n",
    "    return True\n",
    "\n",
    "bk = {}\n",
    "for k in dir():\n",
    "    obj = globals()[k]\n",
    "    if not k.startswith('_') and is_picklable(obj):\n",
    "        try:\n",
    "            bk.update({k: obj})\n",
    "        except TypeError:\n",
    "            pass\n",
    "\n",
    "# to save session\n",
    "with open('resources/toy_example.pkl', 'wb') as f:\n",
    "    pickle.dump(bk, f)\n"
   ]
  },
  {
   "cell_type": "code",
   "execution_count": 1,
   "metadata": {},
   "outputs": [],
   "source": [
    "#Restart kernel, then run this\n",
    "\n",
    "import pickle\n",
    "from pydsge import * # imports eg. the DSGE class and the examples"
   ]
  },
  {
   "cell_type": "code",
   "execution_count": 2,
   "metadata": {},
   "outputs": [],
   "source": [
    "# Loading in input\n",
    "def is_picklable(obj):\n",
    "    \"\"\"\n",
    "    check if obj can be dumped to a .pkl file\n",
    "    \"\"\"\n",
    "    try:\n",
    "        pickle.dumps(obj)\n",
    "    except Exception:\n",
    "        return False\n",
    "    return True\n",
    "\n",
    "with open('resources/toy_example.pkl', 'rb') as f:\n",
    "    bk_restore = pickle.load(f)"
   ]
  },
  {
   "cell_type": "code",
   "execution_count": 3,
   "metadata": {},
   "outputs": [
    {
     "name": "stdout",
     "output_type": "stream",
     "text": [
      "[DSGE:]         Parallelization disabled under Windows and Mac due to a problem with pickling some of the symbolic elements. Sorry...\n"
     ]
    }
   ],
   "source": [
    "#Creating the New version with deliberate difference\n",
    "yaml_file, data_file = example\n",
    "mod = DSGE.read(yaml_file)\n",
    "par = mod.set_par('calib')\n",
    "shock_list = ('e_u', 3.0, 0) # (name, size, period) ## size 3 instead of 4!!\n",
    "X1, (L1, K1), _ = mod.irfs(shock_list, verbose=True)"
   ]
  },
  {
   "cell_type": "code",
   "execution_count": 4,
   "metadata": {},
   "outputs": [
    {
     "ename": "AssertionError",
     "evalue": "Error with shock_list",
     "output_type": "error",
     "traceback": [
      "\u001b[1;31m---------------------------------------------------------------------------\u001b[0m",
      "\u001b[1;31mAssertionError\u001b[0m                            Traceback (most recent call last)",
      "\u001b[1;32m~\\AppData\\Local\\Temp/ipykernel_14056/2912344488.py\u001b[0m in \u001b[0;36m<module>\u001b[1;34m\u001b[0m\n\u001b[0;32m     24\u001b[0m         \u001b[1;32massert\u001b[0m \u001b[0mbk_new\u001b[0m\u001b[1;33m[\u001b[0m\u001b[0mkey\u001b[0m\u001b[1;33m]\u001b[0m\u001b[1;33m.\u001b[0m\u001b[0mequals\u001b[0m\u001b[1;33m(\u001b[0m\u001b[0mbk_restore\u001b[0m\u001b[1;33m[\u001b[0m\u001b[0mkey\u001b[0m\u001b[1;33m]\u001b[0m\u001b[1;33m)\u001b[0m\u001b[1;33m,\u001b[0m \u001b[1;34mf\"Error with {key}\"\u001b[0m\u001b[1;33m\u001b[0m\u001b[1;33m\u001b[0m\u001b[0m\n\u001b[0;32m     25\u001b[0m     \u001b[1;32melse\u001b[0m\u001b[1;33m:\u001b[0m\u001b[1;33m\u001b[0m\u001b[1;33m\u001b[0m\u001b[0m\n\u001b[1;32m---> 26\u001b[1;33m         \u001b[1;32massert\u001b[0m \u001b[0mnp\u001b[0m\u001b[1;33m.\u001b[0m\u001b[0mall\u001b[0m\u001b[1;33m(\u001b[0m\u001b[0mbk_new\u001b[0m\u001b[1;33m[\u001b[0m\u001b[0mkey\u001b[0m\u001b[1;33m]\u001b[0m \u001b[1;33m==\u001b[0m \u001b[0mbk_restore\u001b[0m\u001b[1;33m[\u001b[0m\u001b[0mkey\u001b[0m\u001b[1;33m]\u001b[0m\u001b[1;33m)\u001b[0m\u001b[1;33m,\u001b[0m \u001b[1;34mf\"Error with {key}\"\u001b[0m \u001b[1;31m#Use np.all() for arrays\u001b[0m\u001b[1;33m\u001b[0m\u001b[1;33m\u001b[0m\u001b[0m\n\u001b[0m",
      "\u001b[1;31mAssertionError\u001b[0m: Error with shock_list"
     ]
    }
   ],
   "source": [
    "# Writing test\n",
    "\n",
    "## Step 1: Get relevant variables in environment\n",
    "bk_new = {}\n",
    "for k in dir():\n",
    "    obj = globals()[k]\n",
    "    if not k.startswith('_') and is_picklable(obj):\n",
    "        try:\n",
    "            bk_new.update({k: obj})\n",
    "        except TypeError:\n",
    "            pass\n",
    "\n",
    "bk_new.keys()\n",
    "\n",
    "## Step 2: Check whether bk lists are identical [TODO: order of loading will influence the difference, decide for something]\n",
    "diff = (set(bk_restore.keys()) - set(bk_new.keys())) | (set(bk_new.keys()) - set(bk_restore.keys()))\n",
    "assert diff == {\"bk\", \"bk_new\", \"bk_restore\"} #[order of loading will influence the difference]\n",
    "\n",
    "## Step 3: Loop over shared variables\n",
    "shared_vars = (set(bk_restore.keys()) | set(bk_new.keys())) - diff - {\"In\"} #TODO: here getting manually rid of \"In\", but should do that elsewhere\n",
    "\n",
    "for key in shared_vars:\n",
    "    if type(bk_new[key]).__name__ == \"DataFrame\": #Do we really need separate test for DataFrames -> would np.all() not work just as well?\n",
    "        assert bk_new[key].equals(bk_restore[key]), f\"Error with {key}\"\n",
    "    else:\n",
    "        assert np.all(bk_new[key] == bk_restore[key]), f\"Error with {key}\" #Use np.all() for arrays"
   ]
  }
 ],
 "metadata": {
  "interpreter": {
   "hash": "d226595e2f076559e618d0a9d30d224ac27d056d5cb4864945e1f27051c61083"
  },
  "kernelspec": {
   "display_name": "Python 3.9.7 64-bit ('stud_proj': conda)",
   "language": "python",
   "name": "python3"
  },
  "language_info": {
   "codemirror_mode": {
    "name": "ipython",
    "version": 3
   },
   "file_extension": ".py",
   "mimetype": "text/x-python",
   "name": "python",
   "nbconvert_exporter": "python",
   "pygments_lexer": "ipython3",
   "version": "3.9.7"
  },
  "orig_nbformat": 4
 },
 "nbformat": 4,
 "nbformat_minor": 2
}
